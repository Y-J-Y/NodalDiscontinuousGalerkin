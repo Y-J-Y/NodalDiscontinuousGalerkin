{
 "cells": [
  {
   "cell_type": "code",
   "execution_count": 3,
   "metadata": {},
   "outputs": [
    {
     "name": "stdout",
     "output_type": "stream",
     "text": [
      "\u001b[32m\u001b[1m  Updating\u001b[22m\u001b[39m registry at `~/.julia/registries/General`\n",
      "\u001b[32m\u001b[1m  Updating\u001b[22m\u001b[39m git-repo `https://github.com/JuliaRegistries/General.git`\n",
      "\u001b[?25l\u001b[2K\u001b[?25h\u001b[32m\u001b[1m Resolving\u001b[22m\u001b[39m package versions...\n",
      "\u001b[32m\u001b[1m  Updating\u001b[22m\u001b[39m `~/.julia/environments/v1.0/Project.toml`\n",
      " \u001b[90m [0c46a032]\u001b[39m\u001b[92m + DifferentialEquations v6.3.0\u001b[39m\n",
      "\u001b[32m\u001b[1m  Updating\u001b[22m\u001b[39m `~/.julia/environments/v1.0/Manifest.toml`\n",
      " \u001b[90m [4fba245c]\u001b[39m\u001b[92m + ArrayInterface v0.1.1\u001b[39m\n",
      " \u001b[90m [aae01518]\u001b[39m\u001b[92m + BandedMatrices v0.8.2\u001b[39m\n",
      " \u001b[90m [9e28174c]\u001b[39m\u001b[92m + BinDeps v0.8.10\u001b[39m\n",
      " \u001b[90m [764a87c0]\u001b[39m\u001b[92m + BoundaryValueDiffEq v2.2.3\u001b[39m\n",
      " \u001b[90m [49dc2e85]\u001b[39m\u001b[92m + Calculus v0.4.1\u001b[39m\n",
      " \u001b[90m [bbf7d656]\u001b[39m\u001b[92m + CommonSubexpressions v0.2.0\u001b[39m\n",
      " \u001b[90m [34da2185]\u001b[39m\u001b[93m ↑ Compat v1.5.1 ⇒ v2.0.0\u001b[39m\n",
      " \u001b[90m [bcd4f6db]\u001b[39m\u001b[92m + DelayDiffEq v5.2.0\u001b[39m\n",
      " \u001b[90m [c5cfe0b6]\u001b[39m\u001b[92m + DiffBase v0.3.2\u001b[39m\n",
      " \u001b[90m [2b5f629d]\u001b[39m\u001b[92m + DiffEqBase v5.5.1\u001b[39m\n",
      " \u001b[90m [459566f4]\u001b[39m\u001b[92m + DiffEqCallbacks v2.5.2\u001b[39m\n",
      " \u001b[90m [01453d9d]\u001b[39m\u001b[92m + DiffEqDiffTools v0.8.1\u001b[39m\n",
      " \u001b[90m [5a0ffddc]\u001b[39m\u001b[92m + DiffEqFinancial v2.1.0\u001b[39m\n",
      " \u001b[90m [c894b116]\u001b[39m\u001b[92m + DiffEqJump v6.1.1\u001b[39m\n",
      " \u001b[90m [78ddff82]\u001b[39m\u001b[92m + DiffEqMonteCarlo v0.14.0\u001b[39m\n",
      " \u001b[90m [77a26b50]\u001b[39m\u001b[92m + DiffEqNoiseProcess v3.1.0\u001b[39m\n",
      " \u001b[90m [9fdde737]\u001b[39m\u001b[92m + DiffEqOperators v3.4.0\u001b[39m\n",
      " \u001b[90m [055956cb]\u001b[39m\u001b[92m + DiffEqPhysics v3.1.0\u001b[39m\n",
      " \u001b[90m [163ba53b]\u001b[39m\u001b[92m + DiffResults v0.0.4\u001b[39m\n",
      " \u001b[90m [b552c78f]\u001b[39m\u001b[92m + DiffRules v0.0.10\u001b[39m\n",
      " \u001b[90m [0c46a032]\u001b[39m\u001b[92m + DifferentialEquations v6.3.0\u001b[39m\n",
      " \u001b[90m [c619ae07]\u001b[39m\u001b[92m + DimensionalPlotRecipes v0.2.0\u001b[39m\n",
      " \u001b[90m [b4f34e82]\u001b[39m\u001b[92m + Distances v0.8.0\u001b[39m\n",
      " \u001b[90m [d4d017d3]\u001b[39m\u001b[92m + ExponentialUtilities v1.4.0\u001b[39m\n",
      " \u001b[90m [1a297f60]\u001b[39m\u001b[92m + FillArrays v0.5.0\u001b[39m\n",
      " \u001b[90m [f6369f11]\u001b[39m\u001b[92m + ForwardDiff v0.10.3\u001b[39m\n",
      " \u001b[90m [069b7b12]\u001b[39m\u001b[92m + FunctionWrappers v1.0.0\u001b[39m\n",
      " \u001b[90m [01680d73]\u001b[39m\u001b[92m + GenericSVD v0.2.1\u001b[39m\n",
      " \u001b[90m [82899510]\u001b[39m\u001b[92m + IteratorInterfaceExtensions v0.1.1\u001b[39m\n",
      " \u001b[90m [5078a376]\u001b[39m\u001b[92m + LazyArrays v0.7.0\u001b[39m\n",
      " \u001b[90m [d3d80556]\u001b[39m\u001b[92m + LineSearches v7.0.1\u001b[39m\n",
      " \u001b[90m [739be429]\u001b[39m\u001b[93m ↑ MbedTLS v0.6.7 ⇒ v0.6.8\u001b[39m\n",
      " \u001b[90m [46d2c3a1]\u001b[39m\u001b[92m + MuladdMacro v0.2.1\u001b[39m\n",
      " \u001b[90m [f9640e96]\u001b[39m\u001b[92m + MultiScaleArrays v1.4.0\u001b[39m\n",
      " \u001b[90m [d41bc354]\u001b[39m\u001b[92m + NLSolversBase v7.3.1\u001b[39m\n",
      " \u001b[90m [2774e3e8]\u001b[39m\u001b[92m + NLsolve v3.0.1\u001b[39m\n",
      " \u001b[90m [1dea7af3]\u001b[39m\u001b[92m + OrdinaryDiffEq v5.4.0\u001b[39m\n",
      " \u001b[90m [d96e819e]\u001b[39m\u001b[92m + Parameters v0.10.3\u001b[39m\n",
      " \u001b[90m [e409e4f3]\u001b[39m\u001b[92m + PoissonRandom v0.4.0\u001b[39m\n",
      " \u001b[90m [e6cf234a]\u001b[39m\u001b[92m + RandomNumbers v1.2.0\u001b[39m\n",
      " \u001b[90m [731186ca]\u001b[39m\u001b[92m + RecursiveArrayTools v0.20.0\u001b[39m\n",
      " \u001b[90m [ae5879a3]\u001b[39m\u001b[92m + ResettableStacks v0.6.0\u001b[39m\n",
      " \u001b[90m [f2b01f46]\u001b[39m\u001b[92m + Roots v0.7.4\u001b[39m\n",
      " \u001b[90m [b85f4697]\u001b[39m\u001b[93m ↑ SoftGlobalScope v1.0.9 ⇒ v1.0.10\u001b[39m\n",
      " \u001b[90m [276daf66]\u001b[39m\u001b[92m + SpecialFunctions v0.7.2\u001b[39m\n",
      " \u001b[90m [90137ffa]\u001b[39m\u001b[93m ↑ StaticArrays v0.10.2 ⇒ v0.10.3\u001b[39m\n",
      " \u001b[90m [2913bbd2]\u001b[39m\u001b[93m ↑ StatsBase v0.28.0 ⇒ v0.29.0\u001b[39m\n",
      " \u001b[90m [9672c7b4]\u001b[39m\u001b[92m + SteadyStateDiffEq v1.4.0\u001b[39m\n",
      " \u001b[90m [789caeaf]\u001b[39m\u001b[92m + StochasticDiffEq v6.1.1\u001b[39m\n",
      " \u001b[90m [c3572dad]\u001b[39m\u001b[92m + Sundials v3.3.0\u001b[39m\n",
      " \u001b[90m [3783bdb8]\u001b[39m\u001b[92m + TableTraits v0.4.1\u001b[39m\n",
      " \u001b[90m [a2a6695c]\u001b[39m\u001b[92m + TreeViews v0.3.0\u001b[39m\n",
      " \u001b[90m [30578b45]\u001b[39m\u001b[92m + URIParser v0.4.0\u001b[39m\n",
      " \u001b[90m [4607b0f0]\u001b[39m\u001b[92m + SuiteSparse \u001b[39m\n"
     ]
    },
    {
     "name": "stderr",
     "output_type": "stream",
     "text": [
      "┌ Info: Precompiling DifferentialEquations [0c46a032-eb83-5123-abaf-570d42b7fbaa]\n",
      "└ @ Base loading.jl:1189\n"
     ]
    }
   ],
   "source": [
    "#Create custom triangulation and visualization in 2D"
   ]
  },
  {
   "cell_type": "code",
   "execution_count": 4,
   "metadata": {},
   "outputs": [
    {
     "data": {
      "text/plain": [
       "gD (generic function with 1 method)"
      ]
     },
     "execution_count": 4,
     "metadata": {},
     "output_type": "execute_result"
    }
   ],
   "source": []
  },
  {
   "cell_type": "code",
   "execution_count": 5,
   "metadata": {},
   "outputs": [
    {
     "ename": "LoadError",
     "evalue": "UndefVarError: @fem_def not defined",
     "output_type": "error",
     "traceback": [
      "UndefVarError: @fem_def not defined",
      ""
     ]
    }
   ],
   "source": []
  },
  {
   "cell_type": "code",
   "execution_count": 6,
   "metadata": {},
   "outputs": [
    {
     "ename": "UndefVarError",
     "evalue": "UndefVarError: notime_squaremesh not defined",
     "output_type": "error",
     "traceback": [
      "UndefVarError: notime_squaremesh not defined",
      "",
      "Stacktrace:",
      " [1] top-level scope at In[6]:2"
     ]
    }
   ],
   "source": []
  },
  {
   "cell_type": "code",
   "execution_count": 7,
   "metadata": {},
   "outputs": [
    {
     "ename": "UndefVarError",
     "evalue": "UndefVarError: prob not defined",
     "output_type": "error",
     "traceback": [
      "UndefVarError: prob not defined",
      "",
      "Stacktrace:",
      " [1] top-level scope at In[7]:1"
     ]
    }
   ],
   "source": []
  },
  {
   "cell_type": "code",
   "execution_count": 8,
   "metadata": {},
   "outputs": [
    {
     "name": "stderr",
     "output_type": "stream",
     "text": [
      "┌ Info: Recompiling stale cache file /Users/andresouza/.julia/compiled/v1.0/Plots/ld3vC.ji for Plots [91a5bcdd-55d7-5caf-9e0b-520d859cae80]\n",
      "└ @ Base loading.jl:1187\n"
     ]
    },
    {
     "ename": "UndefVarError",
     "evalue": "UndefVarError: sol not defined",
     "output_type": "error",
     "traceback": [
      "UndefVarError: sol not defined",
      "",
      "Stacktrace:",
      " [1] top-level scope at In[8]:2"
     ]
    }
   ],
   "source": []
  },
  {
   "cell_type": "code",
   "execution_count": 9,
   "metadata": {},
   "outputs": [
    {
     "ename": "UndefVarError",
     "evalue": "UndefVarError: FiniteElementDiffEq not defined",
     "output_type": "error",
     "traceback": [
      "UndefVarError: FiniteElementDiffEq not defined",
      "",
      "Stacktrace:",
      " [1] top-level scope at In[9]:1"
     ]
    }
   ],
   "source": []
  },
  {
   "cell_type": "code",
   "execution_count": null,
   "metadata": {},
   "outputs": [],
   "source": []
  }
 ],
 "metadata": {
  "kernelspec": {
   "display_name": "Julia 1.0.1",
   "language": "julia",
   "name": "julia-1.0"
  },
  "language_info": {
   "file_extension": ".jl",
   "mimetype": "application/julia",
   "name": "julia",
   "version": "1.0.1"
  }
 },
 "nbformat": 4,
 "nbformat_minor": 2
}
